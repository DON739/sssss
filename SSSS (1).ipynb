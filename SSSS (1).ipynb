{
  "nbformat": 4,
  "nbformat_minor": 0,
  "metadata": {
    "colab": {
      "provenance": []
    },
    "kernelspec": {
      "name": "python3",
      "display_name": "Python 3"
    },
    "language_info": {
      "name": "python"
    }
  },
  "cells": [
    {
      "cell_type": "markdown",
      "source": [
        "# FUN"
      ],
      "metadata": {
        "id": "v4uS0OppeZi0"
      }
    },
    {
      "cell_type": "markdown",
      "source": [
        "1.FGRGMG\n",
        "- EEE"
      ],
      "metadata": {
        "id": "UNejtb8red4N"
      }
    },
    {
      "cell_type": "code",
      "execution_count": 2,
      "metadata": {
        "colab": {
          "base_uri": "https://localhost:8080/",
          "height": 36
        },
        "id": "Se3k0NO3eWut",
        "outputId": "3fe2f7cc-9e22-4eb6-d959-b3e906010a56"
      },
      "outputs": [
        {
          "output_type": "execute_result",
          "data": {
            "text/plain": [
              "'\\nRGEGEGE\\n'"
            ],
            "application/vnd.google.colaboratory.intrinsic+json": {
              "type": "string"
            }
          },
          "metadata": {},
          "execution_count": 2
        }
      ],
      "source": [
        "# DDDDDD\n",
        "\"\"\"\n",
        "RGEGEGE\n",
        "\"\"\""
      ]
    }
  ]
}